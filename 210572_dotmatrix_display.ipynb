{
  "nbformat": 4,
  "nbformat_minor": 0,
  "metadata": {
    "colab": {
      "provenance": [],
      "authorship_tag": "ABX9TyP3Os59cvcdJa+5bsALSW88",
      "include_colab_link": true
    },
    "kernelspec": {
      "name": "python3",
      "display_name": "Python 3"
    },
    "language_info": {
      "name": "python"
    }
  },
  "cells": [
    {
      "cell_type": "markdown",
      "metadata": {
        "id": "view-in-github",
        "colab_type": "text"
      },
      "source": [
        "<a href=\"https://colab.research.google.com/github/Madhurb21/Image_Processing/blob/main/210572_dotmatrix_display.ipynb\" target=\"_parent\"><img src=\"https://colab.research.google.com/assets/colab-badge.svg\" alt=\"Open In Colab\"/></a>"
      ]
    },
    {
      "cell_type": "code",
      "execution_count": null,
      "metadata": {
        "id": "Vn0MrrL9BkZu"
      },
      "outputs": [],
      "source": [
        "import cv2 as cv\n",
        "import numpy as np\n",
        "\n",
        "from google.colab.patches import cv2_imshow"
      ]
    },
    {
      "cell_type": "code",
      "source": [
        "roll_no = 210425\n",
        "\n",
        "first_digit = (roll_no // 10) % 10\n",
        "second_digit = roll_no % 10"
      ],
      "metadata": {
        "id": "Nu0V_XBFPLIV"
      },
      "execution_count": null,
      "outputs": []
    },
    {
      "cell_type": "code",
      "source": [
        "display = np.zeros((300, 500, 1), dtype = 'uint8')\n",
        "cv2_imshow(display)"
      ],
      "metadata": {
        "colab": {
          "base_uri": "https://localhost:8080/",
          "height": 317
        },
        "id": "juH7iVohG1VG",
        "outputId": "9cd0bd04-67e3-4dc0-fc8e-196c1e12863b"
      },
      "execution_count": null,
      "outputs": [
        {
          "output_type": "display_data",
          "data": {
            "text/plain": [
              "<PIL.Image.Image image mode=RGB size=500x300 at 0x7F6BA7DD7850>"
            ],
            "image/png": "[encoded data removed]"
          },
          "metadata": {}
        }
      ]
    },
    {
      "cell_type": "code",
      "source": [
        "# Making digits\n",
        "\n",
        "digs = np.array([\n",
        "    [\n",
        "      [1, 1, 1],\n",
        "      [1, 0, 1],\n",
        "      [1, 0, 1],\n",
        "      [1, 0, 1],\n",
        "      [1, 1, 1]\n",
        "    ],\n",
        "    [\n",
        "      [0, 0, 1],\n",
        "      [0, 0, 1],\n",
        "      [0, 0, 1],\n",
        "      [0, 0, 1],\n",
        "      [0, 0, 1]\n",
        "    ],\n",
        "    [\n",
        "      [1, 1, 1],\n",
        "      [0, 0, 1],\n",
        "      [1, 1, 1],\n",
        "      [1, 0, 0],\n",
        "      [1, 1, 1]\n",
        "    ],\n",
        "    [\n",
        "      [1, 1, 1],\n",
        "      [0, 0, 1],\n",
        "      [1, 1, 1],\n",
        "      [0, 0, 1],\n",
        "      [1, 1, 1]\n",
        "    ],\n",
        "    [\n",
        "      [1, 0, 1],\n",
        "      [1, 0, 1],\n",
        "      [1, 1, 1],\n",
        "      [0, 0, 1],\n",
        "      [0, 0, 1]\n",
        "    ],\n",
        "    [\n",
        "      [1, 1, 1],\n",
        "      [1, 0, 0],\n",
        "      [1, 1, 1],\n",
        "      [0, 0, 1],\n",
        "      [1, 1, 1]\n",
        "    ],\n",
        "    [\n",
        "      [1, 1, 1],\n",
        "      [1, 0, 0],\n",
        "      [1, 1, 1],\n",
        "      [1, 0, 1],\n",
        "      [1, 1, 1]\n",
        "    ],\n",
        "    [\n",
        "      [1, 1, 1],\n",
        "      [0, 0, 1],\n",
        "      [0, 0, 1],\n",
        "      [0, 0, 1],\n",
        "      [0, 0, 1]\n",
        "    ],\n",
        "    [\n",
        "      [1, 1, 1],\n",
        "      [1, 0, 1],\n",
        "      [1, 1, 1],\n",
        "      [1, 0, 1],\n",
        "      [1, 1, 1]\n",
        "    ],\n",
        "    [\n",
        "      [1, 1, 1],\n",
        "      [1, 0, 1],\n",
        "      [1, 1, 1],\n",
        "      [0, 0, 1],\n",
        "      [1, 1, 1]\n",
        "    ]\n",
        "])"
      ],
      "metadata": {
        "id": "m7BaXVkTHVRd"
      },
      "execution_count": null,
      "outputs": []
    },
    {
      "cell_type": "code",
      "source": [
        "first_digit_coord = np.array([29, 59])\n",
        "second_digit_coord = np.array([29, 309])"
      ],
      "metadata": {
        "id": "XL17aJoDIMTx"
      },
      "execution_count": null,
      "outputs": []
    },
    {
      "cell_type": "code",
      "source": [
        "step = 60"
      ],
      "metadata": {
        "id": "w3KfEqh5K1Tf"
      },
      "execution_count": null,
      "outputs": []
    },
    {
      "cell_type": "code",
      "source": [
        "first_digit_mat = digs[first_digit,:,:]\n",
        "first_digit_mat"
      ],
      "metadata": {
        "colab": {
          "base_uri": "https://localhost:8080/"
        },
        "id": "z28GMtTlLLPT",
        "outputId": "56da9ec4-96c3-4310-c680-da840ad55c97"
      },
      "execution_count": null,
      "outputs": [
        {
          "output_type": "execute_result",
          "data": {
            "text/plain": [
              "array([[1, 1, 1],\n",
              "       [0, 0, 1],\n",
              "       [1, 1, 1],\n",
              "       [1, 0, 0],\n",
              "       [1, 1, 1]])"
            ]
          },
          "metadata": {},
          "execution_count": 7
        }
      ]
    },
    {
      "cell_type": "code",
      "source": [
        "second_digit_mat = digs[second_digit,:,:]\n",
        "second_digit_mat"
      ],
      "metadata": {
        "colab": {
          "base_uri": "https://localhost:8080/"
        },
        "id": "B0jl7JajNR58",
        "outputId": "ab5fc9c9-8bad-4d26-dff2-44d375fd1b51"
      },
      "execution_count": null,
      "outputs": [
        {
          "output_type": "execute_result",
          "data": {
            "text/plain": [
              "array([[1, 1, 1],\n",
              "       [1, 0, 0],\n",
              "       [1, 1, 1],\n",
              "       [0, 0, 1],\n",
              "       [1, 1, 1]])"
            ]
          },
          "metadata": {},
          "execution_count": 8
        }
      ]
    },
    {
      "cell_type": "markdown",
      "source": [
        "First Digit"
      ],
      "metadata": {
        "id": "5NzFF_fULIEV"
      }
    },
    {
      "cell_type": "code",
      "source": [
        "for i in range(0, 5):\n",
        "  for j in range(0, 3):\n",
        "    if first_digit_mat[i, j] == 1:\n",
        "      x = first_digit_coord[1] + j*step\n",
        "      y = first_digit_coord[0] + i*step\n",
        "      cv.circle(display, (x, y), 25, color = 255, thickness = -1)\n",
        "\n",
        "cv2_imshow(display)"
      ],
      "metadata": {
        "colab": {
          "base_uri": "https://localhost:8080/",
          "height": 317
        },
        "id": "twv5NigmK3C7",
        "outputId": "bb98ef8d-533f-4d56-d8cc-415a4326ec2f"
      },
      "execution_count": null,
      "outputs": [
        {
          "output_type": "display_data",
          "data": {
            "text/plain": [
              "<PIL.Image.Image image mode=RGB size=500x300 at 0x7F6BA7C4FA00>"
            ],
            "image/png": "[encoded data removed]"
          },
          "metadata": {}
        }
      ]
    },
    {
      "cell_type": "code",
      "source": [
        "for i in range(0, 5):\n",
        "  for j in range(0, 3):\n",
        "    if second_digit_mat[i, j] == 1:\n",
        "      x = second_digit_coord[1] + j*step\n",
        "      y = second_digit_coord[0] + i*step\n",
        "      cv.circle(display, (x, y), 25, color = 255, thickness = -1)\n",
        "\n",
        "cv2_imshow(display)"
      ],
      "metadata": {
        "colab": {
          "base_uri": "https://localhost:8080/",
          "height": 317
        },
        "id": "KXHBKPsYOPDj",
        "outputId": "6c2c50cc-1229-473d-a2de-914d8e8bbccc"
      },
      "execution_count": null,
      "outputs": [
        {
          "output_type": "display_data",
          "data": {
            "text/plain": [
              "<PIL.Image.Image image mode=RGB size=500x300 at 0x7F6BA7C4E050>"
            ],
            "image/png": "[encoded data removed]"
          },
          "metadata": {}
        }
      ]
    },
    {
      "cell_type": "code",
      "source": [],
      "metadata": {
        "id": "1kvVdv2CayTS"
      },
      "execution_count": null,
      "outputs": []
    }
  ]
}